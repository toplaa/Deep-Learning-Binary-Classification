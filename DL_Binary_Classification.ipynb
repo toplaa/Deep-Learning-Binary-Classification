{
 "cells": [
  {
   "cell_type": "code",
   "execution_count": 1,
   "metadata": {},
   "outputs": [],
   "source": [
    "# import necessary libraries\n",
    "import pandas as pd\n",
    "import tensorflow as tf\n",
    "from tensorflow import keras\n",
    "from sklearn.model_selection import train_test_split\n",
    "import numpy as np"
   ]
  },
  {
   "cell_type": "code",
   "execution_count": 2,
   "metadata": {},
   "outputs": [],
   "source": [
    "# import data\n",
    "df = pd.read_csv('sample_data.csv')"
   ]
  },
  {
   "cell_type": "code",
   "execution_count": 3,
   "metadata": {},
   "outputs": [
    {
     "data": {
      "text/html": [
       "<div>\n",
       "<style scoped>\n",
       "    .dataframe tbody tr th:only-of-type {\n",
       "        vertical-align: middle;\n",
       "    }\n",
       "\n",
       "    .dataframe tbody tr th {\n",
       "        vertical-align: top;\n",
       "    }\n",
       "\n",
       "    .dataframe thead th {\n",
       "        text-align: right;\n",
       "    }\n",
       "</style>\n",
       "<table border=\"1\" class=\"dataframe\">\n",
       "  <thead>\n",
       "    <tr style=\"text-align: right;\">\n",
       "      <th></th>\n",
       "      <th>prop_1</th>\n",
       "      <th>prop_2</th>\n",
       "      <th>prop_3</th>\n",
       "      <th>prop_4</th>\n",
       "      <th>Activity</th>\n",
       "    </tr>\n",
       "  </thead>\n",
       "  <tbody>\n",
       "    <tr>\n",
       "      <th>0</th>\n",
       "      <td>4.06</td>\n",
       "      <td>71.01</td>\n",
       "      <td>57.20</td>\n",
       "      <td>5.82</td>\n",
       "      <td>1</td>\n",
       "    </tr>\n",
       "    <tr>\n",
       "      <th>1</th>\n",
       "      <td>3.63</td>\n",
       "      <td>65.62</td>\n",
       "      <td>52.68</td>\n",
       "      <td>5.44</td>\n",
       "      <td>1</td>\n",
       "    </tr>\n",
       "    <tr>\n",
       "      <th>2</th>\n",
       "      <td>3.63</td>\n",
       "      <td>68.90</td>\n",
       "      <td>58.29</td>\n",
       "      <td>6.06</td>\n",
       "      <td>1</td>\n",
       "    </tr>\n",
       "    <tr>\n",
       "      <th>3</th>\n",
       "      <td>4.11</td>\n",
       "      <td>75.59</td>\n",
       "      <td>62.81</td>\n",
       "      <td>6.44</td>\n",
       "      <td>1</td>\n",
       "    </tr>\n",
       "    <tr>\n",
       "      <th>4</th>\n",
       "      <td>4.00</td>\n",
       "      <td>70.86</td>\n",
       "      <td>58.05</td>\n",
       "      <td>6.06</td>\n",
       "      <td>1</td>\n",
       "    </tr>\n",
       "  </tbody>\n",
       "</table>\n",
       "</div>"
      ],
      "text/plain": [
       "   prop_1  prop_2  prop_3  prop_4  Activity\n",
       "0    4.06   71.01   57.20    5.82         1\n",
       "1    3.63   65.62   52.68    5.44         1\n",
       "2    3.63   68.90   58.29    6.06         1\n",
       "3    4.11   75.59   62.81    6.44         1\n",
       "4    4.00   70.86   58.05    6.06         1"
      ]
     },
     "execution_count": 3,
     "metadata": {},
     "output_type": "execute_result"
    }
   ],
   "source": [
    "#check data with the head\n",
    "df.head()"
   ]
  },
  {
   "cell_type": "code",
   "execution_count": null,
   "metadata": {},
   "outputs": [],
   "source": []
  },
  {
   "cell_type": "code",
   "execution_count": 4,
   "metadata": {},
   "outputs": [
    {
     "name": "stdout",
     "output_type": "stream",
     "text": [
      "<class 'pandas.core.frame.DataFrame'>\n",
      "RangeIndex: 540 entries, 0 to 539\n",
      "Data columns (total 5 columns):\n",
      " #   Column    Non-Null Count  Dtype  \n",
      "---  ------    --------------  -----  \n",
      " 0   prop_1    540 non-null    float64\n",
      " 1   prop_2    540 non-null    float64\n",
      " 2   prop_3    540 non-null    float64\n",
      " 3   prop_4    540 non-null    float64\n",
      " 4   Activity  540 non-null    int64  \n",
      "dtypes: float64(4), int64(1)\n",
      "memory usage: 21.2 KB\n"
     ]
    }
   ],
   "source": [
    "df.info()"
   ]
  },
  {
   "cell_type": "code",
   "execution_count": 5,
   "metadata": {},
   "outputs": [
    {
     "name": "stdout",
     "output_type": "stream",
     "text": [
      "['prop_1', 'prop_2', 'prop_3', 'prop_4']\n"
     ]
    }
   ],
   "source": [
    "# Splitting the data into dependent and independent features\n",
    "# where the Activity column is the dependent feature and prop_1 to prop_4 are the independent features\n",
    "\n",
    "properties = list(df.columns.values)\n",
    "properties.remove('Activity')\n",
    "print(properties)\n",
    "X = df[properties]\n",
    "y = df['Activity']"
   ]
  },
  {
   "cell_type": "code",
   "execution_count": 6,
   "metadata": {},
   "outputs": [
    {
     "data": {
      "text/html": [
       "<div>\n",
       "<style scoped>\n",
       "    .dataframe tbody tr th:only-of-type {\n",
       "        vertical-align: middle;\n",
       "    }\n",
       "\n",
       "    .dataframe tbody tr th {\n",
       "        vertical-align: top;\n",
       "    }\n",
       "\n",
       "    .dataframe thead th {\n",
       "        text-align: right;\n",
       "    }\n",
       "</style>\n",
       "<table border=\"1\" class=\"dataframe\">\n",
       "  <thead>\n",
       "    <tr style=\"text-align: right;\">\n",
       "      <th></th>\n",
       "      <th>prop_1</th>\n",
       "      <th>prop_2</th>\n",
       "      <th>prop_3</th>\n",
       "      <th>prop_4</th>\n",
       "    </tr>\n",
       "  </thead>\n",
       "  <tbody>\n",
       "    <tr>\n",
       "      <th>0</th>\n",
       "      <td>4.06</td>\n",
       "      <td>71.01</td>\n",
       "      <td>57.20</td>\n",
       "      <td>5.82</td>\n",
       "    </tr>\n",
       "    <tr>\n",
       "      <th>1</th>\n",
       "      <td>3.63</td>\n",
       "      <td>65.62</td>\n",
       "      <td>52.68</td>\n",
       "      <td>5.44</td>\n",
       "    </tr>\n",
       "    <tr>\n",
       "      <th>2</th>\n",
       "      <td>3.63</td>\n",
       "      <td>68.90</td>\n",
       "      <td>58.29</td>\n",
       "      <td>6.06</td>\n",
       "    </tr>\n",
       "    <tr>\n",
       "      <th>3</th>\n",
       "      <td>4.11</td>\n",
       "      <td>75.59</td>\n",
       "      <td>62.81</td>\n",
       "      <td>6.44</td>\n",
       "    </tr>\n",
       "    <tr>\n",
       "      <th>4</th>\n",
       "      <td>4.00</td>\n",
       "      <td>70.86</td>\n",
       "      <td>58.05</td>\n",
       "      <td>6.06</td>\n",
       "    </tr>\n",
       "  </tbody>\n",
       "</table>\n",
       "</div>"
      ],
      "text/plain": [
       "   prop_1  prop_2  prop_3  prop_4\n",
       "0    4.06   71.01   57.20    5.82\n",
       "1    3.63   65.62   52.68    5.44\n",
       "2    3.63   68.90   58.29    6.06\n",
       "3    4.11   75.59   62.81    6.44\n",
       "4    4.00   70.86   58.05    6.06"
      ]
     },
     "execution_count": 6,
     "metadata": {},
     "output_type": "execute_result"
    }
   ],
   "source": [
    "#check the X and y headings\n",
    "X.head()\n"
   ]
  },
  {
   "cell_type": "code",
   "execution_count": 7,
   "metadata": {},
   "outputs": [
    {
     "data": {
      "text/plain": [
       "0    1\n",
       "1    1\n",
       "2    1\n",
       "3    1\n",
       "4    1\n",
       "Name: Activity, dtype: int64"
      ]
     },
     "execution_count": 7,
     "metadata": {},
     "output_type": "execute_result"
    }
   ],
   "source": [
    "y.head()"
   ]
  },
  {
   "cell_type": "code",
   "execution_count": 8,
   "metadata": {},
   "outputs": [],
   "source": [
    "# dividing the data into test ad trains set with test size = 30%\n",
    "\n",
    "from sklearn.model_selection import train_test_split\n",
    "X_train, X_test, y_train, y_test = train_test_split(X, y, test_size=0.3, random_state=0)"
   ]
  },
  {
   "cell_type": "code",
   "execution_count": 9,
   "metadata": {},
   "outputs": [
    {
     "data": {
      "text/plain": [
       "(540, 5)"
      ]
     },
     "execution_count": 9,
     "metadata": {},
     "output_type": "execute_result"
    }
   ],
   "source": [
    "\n",
    "df.shape"
   ]
  },
  {
   "cell_type": "code",
   "execution_count": 10,
   "metadata": {},
   "outputs": [
    {
     "name": "stdout",
     "output_type": "stream",
     "text": [
      "<class 'pandas.core.frame.DataFrame'>\n",
      "RangeIndex: 540 entries, 0 to 539\n",
      "Data columns (total 5 columns):\n",
      " #   Column    Non-Null Count  Dtype  \n",
      "---  ------    --------------  -----  \n",
      " 0   prop_1    540 non-null    float64\n",
      " 1   prop_2    540 non-null    float64\n",
      " 2   prop_3    540 non-null    float64\n",
      " 3   prop_4    540 non-null    float64\n",
      " 4   Activity  540 non-null    int64  \n",
      "dtypes: float64(4), int64(1)\n",
      "memory usage: 21.2 KB\n"
     ]
    }
   ],
   "source": [
    "df.info()"
   ]
  },
  {
   "cell_type": "code",
   "execution_count": 11,
   "metadata": {},
   "outputs": [],
   "source": [
    "# Create model\n",
    "# Using a neural network that uses three layers. Here are there two hinden layers with 16 nodes each and one output layer with one node\n",
    "# the keras.sequential creates the single stack of layers that are sequentially connected\n",
    "# keras.layers.Flatten(input_shape=(4,)) is the first layer added to the model. it's function is to take the input with 4 paramters\n",
    "# keras.layers.Dense(16, activation=tf.nn.relu) adds a dense hiden layers  \n",
    "##### They use ReLU (Rectified Linear Units) as the activation function. \n",
    "##### ReLU is a half rectified function; that is, for all the inputs less than 0 (e.g. -120,-6.7, -0.0344, 0)\n",
    "# keras.layers.Dense(1, activation=tf.nn.sigmoid) is the output layers which uses the Sigmoid activation function \n",
    "model = keras.Sequential([\n",
    "    keras.layers.Flatten(input_shape=(4,)),\n",
    "    keras.layers.Dense(16, activation=tf.nn.relu),\n",
    "\tkeras.layers.Dense(16, activation=tf.nn.relu),\n",
    "    keras.layers.Dense(1, activation=tf.nn.sigmoid),\n",
    "])\n",
    "\n"
   ]
  },
  {
   "cell_type": "code",
   "execution_count": 12,
   "metadata": {},
   "outputs": [
    {
     "name": "stdout",
     "output_type": "stream",
     "text": [
      "Model: \"sequential\"\n",
      "_________________________________________________________________\n",
      "Layer (type)                 Output Shape              Param #   \n",
      "=================================================================\n",
      "flatten (Flatten)            (None, 4)                 0         \n",
      "_________________________________________________________________\n",
      "dense (Dense)                (None, 16)                80        \n",
      "_________________________________________________________________\n",
      "dense_1 (Dense)              (None, 16)                272       \n",
      "_________________________________________________________________\n",
      "dense_2 (Dense)              (None, 1)                 17        \n",
      "=================================================================\n",
      "Total params: 369\n",
      "Trainable params: 369\n",
      "Non-trainable params: 0\n",
      "_________________________________________________________________\n"
     ]
    }
   ],
   "source": [
    "model.summary()"
   ]
  },
  {
   "cell_type": "code",
   "execution_count": 13,
   "metadata": {},
   "outputs": [
    {
     "data": {
      "text/plain": [
       "[<tensorflow.python.keras.layers.core.Flatten at 0x7f9c7123b850>,\n",
       " <tensorflow.python.keras.layers.core.Dense at 0x7f9c711dafd0>,\n",
       " <tensorflow.python.keras.layers.core.Dense at 0x7f9c711e86d0>,\n",
       " <tensorflow.python.keras.layers.core.Dense at 0x7f9c711e8b90>]"
      ]
     },
     "execution_count": 13,
     "metadata": {},
     "output_type": "execute_result"
    }
   ],
   "source": [
    "# We can also get model list of layers\n",
    "model.layers\n"
   ]
  },
  {
   "cell_type": "code",
   "execution_count": 14,
   "metadata": {},
   "outputs": [],
   "source": [
    "# Compiling the model\n",
    "#Code is compiled using Adam momemtune based-optimizer, binary_crossrntropy as loss function, metrics uses epoch \n",
    "# model is trained for 50 epochs\n",
    "\n",
    "model.compile(optimizer='adam',\n",
    "              loss='binary_crossentropy',\n",
    "              metrics=['accuracy'])\n"
   ]
  },
  {
   "cell_type": "code",
   "execution_count": 15,
   "metadata": {},
   "outputs": [
    {
     "name": "stdout",
     "output_type": "stream",
     "text": [
      "Epoch 1/50\n",
      "378/378 [==============================] - 1s 3ms/step - loss: 1.2758 - accuracy: 0.5476\n",
      "Epoch 2/50\n",
      "378/378 [==============================] - 1s 2ms/step - loss: 0.7898 - accuracy: 0.6085\n",
      "Epoch 3/50\n",
      "378/378 [==============================] - 1s 2ms/step - loss: 0.6485 - accuracy: 0.6852\n",
      "Epoch 4/50\n",
      "378/378 [==============================] - 1s 3ms/step - loss: 0.6005 - accuracy: 0.7143\n",
      "Epoch 5/50\n",
      "378/378 [==============================] - 1s 2ms/step - loss: 0.5965 - accuracy: 0.7302\n",
      "Epoch 6/50\n",
      "378/378 [==============================] - 1s 3ms/step - loss: 0.5853 - accuracy: 0.7434\n",
      "Epoch 7/50\n",
      "378/378 [==============================] - 1s 3ms/step - loss: 0.5376 - accuracy: 0.7725\n",
      "Epoch 8/50\n",
      "378/378 [==============================] - 1s 2ms/step - loss: 0.5424 - accuracy: 0.7884\n",
      "Epoch 9/50\n",
      "378/378 [==============================] - 1s 3ms/step - loss: 0.5486 - accuracy: 0.7540\n",
      "Epoch 10/50\n",
      "378/378 [==============================] - 1s 2ms/step - loss: 0.5411 - accuracy: 0.7831\n",
      "Epoch 11/50\n",
      "378/378 [==============================] - 1s 3ms/step - loss: 0.5306 - accuracy: 0.7804\n",
      "Epoch 12/50\n",
      "378/378 [==============================] - 1s 2ms/step - loss: 0.5226 - accuracy: 0.7937\n",
      "Epoch 13/50\n",
      "378/378 [==============================] - 1s 3ms/step - loss: 0.5157 - accuracy: 0.7963\n",
      "Epoch 14/50\n",
      "378/378 [==============================] - 1s 3ms/step - loss: 0.5055 - accuracy: 0.7831\n",
      "Epoch 15/50\n",
      "378/378 [==============================] - 1s 3ms/step - loss: 0.5361 - accuracy: 0.7831\n",
      "Epoch 16/50\n",
      "378/378 [==============================] - 1s 4ms/step - loss: 0.5236 - accuracy: 0.7725\n",
      "Epoch 17/50\n",
      "378/378 [==============================] - 1s 3ms/step - loss: 0.5171 - accuracy: 0.7884\n",
      "Epoch 18/50\n",
      "378/378 [==============================] - 1s 3ms/step - loss: 0.5014 - accuracy: 0.7963\n",
      "Epoch 19/50\n",
      "378/378 [==============================] - 1s 3ms/step - loss: 0.4909 - accuracy: 0.7989\n",
      "Epoch 20/50\n",
      "378/378 [==============================] - 1s 4ms/step - loss: 0.5000 - accuracy: 0.7884\n",
      "Epoch 21/50\n",
      "378/378 [==============================] - 1s 3ms/step - loss: 0.4945 - accuracy: 0.7963\n",
      "Epoch 22/50\n",
      "378/378 [==============================] - 1s 4ms/step - loss: 0.4913 - accuracy: 0.8016\n",
      "Epoch 23/50\n",
      "378/378 [==============================] - 1s 3ms/step - loss: 0.4770 - accuracy: 0.8042\n",
      "Epoch 24/50\n",
      "378/378 [==============================] - 1s 3ms/step - loss: 0.5014 - accuracy: 0.7963\n",
      "Epoch 25/50\n",
      "378/378 [==============================] - 1s 3ms/step - loss: 0.4723 - accuracy: 0.8148\n",
      "Epoch 26/50\n",
      "378/378 [==============================] - 1s 3ms/step - loss: 0.4866 - accuracy: 0.7989\n",
      "Epoch 27/50\n",
      "378/378 [==============================] - 1s 3ms/step - loss: 0.4558 - accuracy: 0.8201\n",
      "Epoch 28/50\n",
      "378/378 [==============================] - 1s 3ms/step - loss: 0.4869 - accuracy: 0.8016\n",
      "Epoch 29/50\n",
      "378/378 [==============================] - 1s 3ms/step - loss: 0.4547 - accuracy: 0.8148\n",
      "Epoch 30/50\n",
      "378/378 [==============================] - 1s 3ms/step - loss: 0.4711 - accuracy: 0.8016\n",
      "Epoch 31/50\n",
      "378/378 [==============================] - 1s 4ms/step - loss: 0.4641 - accuracy: 0.8175\n",
      "Epoch 32/50\n",
      "378/378 [==============================] - 1s 3ms/step - loss: 0.4808 - accuracy: 0.8148\n",
      "Epoch 33/50\n",
      "378/378 [==============================] - 1s 4ms/step - loss: 0.4603 - accuracy: 0.8254\n",
      "Epoch 34/50\n",
      "378/378 [==============================] - 1s 3ms/step - loss: 0.4520 - accuracy: 0.8122\n",
      "Epoch 35/50\n",
      "378/378 [==============================] - 1s 3ms/step - loss: 0.4592 - accuracy: 0.8122\n",
      "Epoch 36/50\n",
      "378/378 [==============================] - 1s 3ms/step - loss: 0.4512 - accuracy: 0.8122\n",
      "Epoch 37/50\n",
      "378/378 [==============================] - 1s 4ms/step - loss: 0.4535 - accuracy: 0.8069\n",
      "Epoch 38/50\n",
      "378/378 [==============================] - 1s 4ms/step - loss: 0.4360 - accuracy: 0.8122\n",
      "Epoch 39/50\n",
      "378/378 [==============================] - 1s 3ms/step - loss: 0.4442 - accuracy: 0.8042\n",
      "Epoch 40/50\n",
      "378/378 [==============================] - 2s 4ms/step - loss: 0.4420 - accuracy: 0.8122\n",
      "Epoch 41/50\n",
      "378/378 [==============================] - 2s 4ms/step - loss: 0.4484 - accuracy: 0.8148\n",
      "Epoch 42/50\n",
      "378/378 [==============================] - 1s 3ms/step - loss: 0.4366 - accuracy: 0.8254\n",
      "Epoch 43/50\n",
      "378/378 [==============================] - 1s 4ms/step - loss: 0.4411 - accuracy: 0.8148\n",
      "Epoch 44/50\n",
      "378/378 [==============================] - 1s 4ms/step - loss: 0.4281 - accuracy: 0.8095\n",
      "Epoch 45/50\n",
      "378/378 [==============================] - 1s 4ms/step - loss: 0.4221 - accuracy: 0.8254\n",
      "Epoch 46/50\n",
      "378/378 [==============================] - 1s 3ms/step - loss: 0.4367 - accuracy: 0.8333\n",
      "Epoch 47/50\n",
      "378/378 [==============================] - 1s 3ms/step - loss: 0.4302 - accuracy: 0.8360\n",
      "Epoch 48/50\n",
      "378/378 [==============================] - 2s 4ms/step - loss: 0.4459 - accuracy: 0.7963\n",
      "Epoch 49/50\n",
      "378/378 [==============================] - 2s 4ms/step - loss: 0.4392 - accuracy: 0.8254\n",
      "Epoch 50/50\n",
      "378/378 [==============================] - 1s 3ms/step - loss: 0.4390 - accuracy: 0.8122\n"
     ]
    },
    {
     "data": {
      "text/plain": [
       "<tensorflow.python.keras.callbacks.History at 0x7f9c70045ed0>"
      ]
     },
     "execution_count": 15,
     "metadata": {},
     "output_type": "execute_result"
    }
   ],
   "source": [
    "model.fit(X_train, y_train, epochs=50, batch_size=1)\n"
   ]
  },
  {
   "cell_type": "code",
   "execution_count": 16,
   "metadata": {},
   "outputs": [
    {
     "name": "stdout",
     "output_type": "stream",
     "text": [
      "6/6 [==============================] - 0s 4ms/step - loss: 0.4280 - accuracy: 0.8148\n"
     ]
    }
   ],
   "source": [
    "test_loss, test_acc = model.evaluate(X_test, y_test)\n"
   ]
  },
  {
   "cell_type": "code",
   "execution_count": null,
   "metadata": {},
   "outputs": [],
   "source": []
  }
 ],
 "metadata": {
  "kernelspec": {
   "display_name": "Python 3",
   "language": "python",
   "name": "python3"
  },
  "language_info": {
   "codemirror_mode": {
    "name": "ipython",
    "version": 3
   },
   "file_extension": ".py",
   "mimetype": "text/x-python",
   "name": "python",
   "nbconvert_exporter": "python",
   "pygments_lexer": "ipython3",
   "version": "3.7.6"
  }
 },
 "nbformat": 4,
 "nbformat_minor": 4
}
